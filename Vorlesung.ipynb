{
 "cells": [
  {
   "cell_type": "markdown",
   "metadata": {},
   "source": [
    "# Fit-Vorlesung EDV für Physikerinnen und Pkysiker 22.01.2020"
   ]
  },
  {
   "cell_type": "code",
   "execution_count": null,
   "metadata": {},
   "outputs": [],
   "source": []
  },
  {
   "cell_type": "markdown",
   "metadata": {},
   "source": [
    "## Einfaches Anpassen - Mittelwert und Standardabweichung"
   ]
  },
  {
   "cell_type": "markdown",
   "metadata": {},
   "source": [
    "Nehmen wir ein Beispiel mit Daten aus einer Datei, wobei wir hier Messwerte mit Fehlern haben. Nehmen wir an, die Messwerte wurden in gleichen Zeitabständen genommen."
   ]
  },
  {
   "cell_type": "code",
   "execution_count": 1,
   "metadata": {},
   "outputs": [
    {
     "data": {
      "image/png": "[encoded data removed]",
      "text/plain": [
       "<Figure size 432x288 with 1 Axes>"
      ]
     },
     "metadata": {
      "needs_background": "light"
     },
     "output_type": "display_data"
    }
   ],
   "source": [
    "%matplotlib inline\n",
    "\n",
    "import numpy as np\n",
    "import matplotlib.pyplot as plt\n",
    "\n",
    "\n",
    "data = np.loadtxt('data/data.txt')\n",
    "\n",
    "x_data = data[:,0]\n",
    "y_data = data[:,1]\n",
    "err_data = data[:,2]\n",
    "\n",
    "plt.ylim(0,20)\n",
    "plt.errorbar(x_data, y_data, yerr=err_data, capsize=2, fmt='.');"
   ]
  },
  {
   "cell_type": "markdown",
   "metadata": {},
   "source": [
    "Die Daten suggerieren, dass bei jeder Messung immer der gleiche physikalische Zustand gemessen wurde. In so einem Fall ist die einfachste Anpassung, die Berechnung des Mittelwerts und die Standardabweichung:\n",
    "\n",
    "$$ \\bar{y} = \\frac{1}{n}\\sum_{i=1}^{n} y_i \\textrm{  und  } \\sigma^2 = \\frac{1}{n-1} \\sum_{i=1}^{n} (y_i-\\bar{y})^2 $$\n",
    "\n",
    "Für diese Daten kann man das leicht mit `numpy` berechnen:"
   ]
  },
  {
   "cell_type": "code",
   "execution_count": 2,
   "metadata": {},
   "outputs": [
    {
     "name": "stdout",
     "output_type": "stream",
     "text": [
      "Mittelwert ist: 9.884615384615385 +/- 0.5722373819506861\n"
     ]
    },
    {
     "data": {
      "image/png": "[encoded data removed]",
      "text/plain": [
       "<Figure size 432x288 with 1 Axes>"
      ]
     },
     "metadata": {
      "needs_background": "light"
     },
     "output_type": "display_data"
    }
   ],
   "source": [
    "mean = y_data.mean()   # Mittelwert\n",
    "stddev = y_data.std()  # Standardabweichung\n",
    "\n",
    "print('Mittelwert ist: {} +/- {}'.format(mean, stddev))\n",
    "\n",
    "# define the fill area\n",
    "a_p = np.array([mean+stddev] * x_data.shape[0])\n",
    "a_m = np.array([mean-stddev] * x_data.shape[0])\n",
    "\n",
    "plt.plot(x_data, a_p, 'y')\n",
    "plt.plot(x_data, a_m, 'y')\n",
    "plt.fill_between(x_data, a_p, a_m, color=\"orange\",alpha=0.1)\n",
    "\n",
    "plt.ylim(0,20)\n",
    "plt.errorbar(data[:,0], data[:,1], yerr=data[:,2], capsize=2, fmt='.');"
   ]
  },
  {
   "cell_type": "markdown",
   "metadata": {},
   "source": [
    "Man sieht, dass in diesem Beispiel alle Datenpunkte mit ihren Fehlern im dem Bereich des Mittelwertes und der Standardabweichung liegen. Somit sollte der Mittelwert die Daten repräsentieren."
   ]
  },
  {
   "cell_type": "markdown",
   "metadata": {},
   "source": [
    "## Geradenanpassung - Teil 1"
   ]
  },
  {
   "cell_type": "markdown",
   "metadata": {},
   "source": [
    "Als nächstes Beispiel nehmen wir Daten mit Fehlern, wobei die einzelnen Datenpunkte offensichtlich auf einer Gerade liegen sollen. "
   ]
  },
  {
   "cell_type": "code",
   "execution_count": 3,
   "metadata": {},
   "outputs": [
    {
     "data": {
      "image/png": "[encoded data removed]",
      "text/plain": [
       "<Figure size 432x288 with 1 Axes>"
      ]
     },
     "metadata": {
      "needs_background": "light"
     },
     "output_type": "display_data"
    }
   ],
   "source": [
    "%matplotlib inline\n",
    "\n",
    "import numpy as np\n",
    "import matplotlib.pyplot as plt\n",
    "\n",
    "\n",
    "data = np.loadtxt('data/data.txt')\n",
    "\n",
    "x_data = data[:,0]\n",
    "y_data = data[:,1] + x_data*2.5   # Daten auf eine Gerade verlegen\n",
    "err_data = data[:,2]\n",
    "\n",
    "plt.ylim(0, 50)\n",
    "plt.errorbar(x_data, y_data, yerr=err_data, capsize=2, fmt='.');"
   ]
  },
  {
   "cell_type": "markdown",
   "metadata": {},
   "source": [
    "Graphisch ohne Computer kann man leicht eine Ausgleichsgerade inklusive einer Geraden mit minimaler und maximaler Steigung für die Fehler berechnen."
   ]
  },
  {
   "cell_type": "markdown",
   "metadata": {},
   "source": [
    "Mit dem Computer ist es ein wenig aufwendiger. Schauen wir uns zunächst folgende Funktion an:"
   ]
  },
  {
   "cell_type": "code",
   "execution_count": null,
   "metadata": {},
   "outputs": [],
   "source": [
    "%matplotlib inline\n",
    "\n",
    "import numpy as np\n",
    "import matplotlib.pyplot as plt\n",
    "\n",
    "def line(x, a, b):\n",
    "    return x*a + b    "
   ]
  },
  {
   "cell_type": "markdown",
   "metadata": {},
   "source": [
    "Mit `line` wird eine Geradenfunktion definiert, die als Parameter die Steigung `a` und den Offset `b` hat:\n",
    "$$y = a x + b$$"
   ]
  },
  {
   "cell_type": "markdown",
   "metadata": {},
   "source": [
    "Sie können diese Funktion, um Datenpunkte passend zu den vorgegebenen `x`-Werten zu erzeugen (Genaueres zu dieser Funktion kommt später):"
   ]
  },
  {
   "cell_type": "code",
   "execution_count": null,
   "metadata": {},
   "outputs": [],
   "source": [
    "plt.ylim(0, 50)\n",
    "plt.errorbar(x_data, y_data, yerr=err_data, capsize=2, fmt='.');\n",
    "plt.plot(x_data, line(x_data, 1, 5), label=r'a=1 b=5')\n",
    "plt.plot(x_data, line(x_data, 2, 12), label=r'a=2 b=12')\n",
    "plt.legend(loc='upper left')"
   ]
  },
  {
   "cell_type": "markdown",
   "metadata": {},
   "source": [
    "In dem obigen Beispiel werden zwei Beispiel-Geraden erzeugt, eine mit der Steigung 1 und dem Offset 5 (rot) und eine mit der Steigung 2 und dem Offset 12 (grün). Die grüne Gerade sieht schon in etwa passend zu den Datenpunkten aus dem Datensatz aus.  "
   ]
  },
  {
   "cell_type": "markdown",
   "metadata": {},
   "source": [
    "Man kann an dieser Stelle rumprobieren, bis man den richtigen Parametersatz für eine Gerade gefunden hat, mit der alle Datenpunkte innerhalb der Fehler auf der Geraden liegen, aber dafür hat man ja den Computer, der das für einen machen soll!"
   ]
  },
  {
   "cell_type": "markdown",
   "metadata": {},
   "source": [
    "## Methode der kleinsten Quadrate"
   ]
  },
  {
   "cell_type": "markdown",
   "metadata": {},
   "source": [
    "Wie oben gezeigt, kann man sich mit der Funktion `line` Beispiel-Geraden erzeugen. Wie kann man herausbekommen, ob diese Gerade mit den Datenpunkten übereinstimmt? \n",
    "\n",
    "Die Antwort ist einfach, man bestimmt den statistischen `Abstand` zwischen der Gerade und den Datenpunkten. Dazu wird ähnlich der Standardabweichung für jeden einzelnen Wert das Quadrat der Differenz zwischen Datenpunkt und entsprechendem Geradenpunkt (Residual) berechnet und aufsummiert:\n",
    "\n",
    "$$ S = \\sum_{i=1}^n (y_i-\\textrm{line}(x_i,a,b))^2 $$ \n",
    "\n",
    "Für die beiden Geraden sieht es dann so aus: "
   ]
  },
  {
   "cell_type": "code",
   "execution_count": null,
   "metadata": {},
   "outputs": [],
   "source": [
    "red_S = ((y_data - line(x_data, 1, 5))**2).sum()\n",
    "green_S = ((y_data - line(x_data, 2, 12))**2).sum()\n",
    "\n",
    "print('rote Gerade : S={}'.format(red_S))\n",
    "print('grüne Gerade: S={}'.format(green_S))"
   ]
  },
  {
   "cell_type": "markdown",
   "metadata": {},
   "source": [
    "Für jedes Paar von Parametern `a` und `b` kann man dann einen Abstand zu den Datenpunkten berechnen. Wie man an dem obigen Beispiel sehen kann, ist der Abstand der grünen Gerade kleiner als der Abstand der roten Geraden, was dem Betrachten entspricht, die grüne Gerade passt besser als die rote!"
   ]
  },
  {
   "cell_type": "markdown",
   "metadata": {},
   "source": [
    "Wenn es gelingen würde, ein Parameterpaar zu finden, bei der die Gerade exakt auf allen Datenpunkten liegen würde, ist der Abstand `0`. Dieses ist bei reellen Daten in der Regel unmöglich, allerdings wäre ein Ziel, den Abstand so weit zu verringern, dass die Gerade den Datenpunkten so nah wie möglich kommt! \n",
    "\n",
    "Diese Methode nennt man **Methode der kleinsten Qudratate** (Least square fit) und wurde von Carl Friedrich Gauß 1795 entdeckt und am Anfang für die Berechnung und Vorhersage von Positionen astronomischer Körper benutzt.\n",
    "\n",
    "Da in der Regel die Datenwerte auch Fehler enthalten, benutzt man zur Minimierung die $\\chi^2$-Funktion:\n",
    "\n",
    "$$ \\chi^2 = \\sum_{i=1}^n (\\frac{y_i-\\textrm{m}(x_i,a,b,...)}{\\Delta y_i})^2 $$ \n"
   ]
  },
  {
   "cell_type": "markdown",
   "metadata": {},
   "source": [
    "Die Umsetzung dieses Minimierungsproblems ist nun die eigentliche Arbeit."
   ]
  },
  {
   "cell_type": "markdown",
   "metadata": {},
   "source": [
    "## Geradenanpassung - Teil 2"
   ]
  },
  {
   "cell_type": "markdown",
   "metadata": {},
   "source": [
    "Für die Geradenanpassung in dem obigen Beispiel, wo es hauptsächlich um die Steigung der Geraden geht, der Offset `b` lässt sich durch den Mittelwert vom Anfang ersetzen, kann man den Parameter `a` sicher leicht mit einer Intervallschachtelung bestimmen. Sonst gibt es für Geradenanpassungen auch fixe Berechnungsgrundlagen, auf die wir hier aber nicht weiter eingehen wollen."
   ]
  },
  {
   "cell_type": "markdown",
   "metadata": {},
   "source": [
    "In Python liefert die Unterbibliothek `optimize` von `scipy` ein Tool, welches man für viele Fit-Aufgaben verwenden kann. Instbesondere können Sie diese Funktion innerhalb des Praktikums gut verwenden. Bevor wir auf die Funktion im Detail eingehen, hier ein Beispiel zur Lösung der Geradenanpassung:"
   ]
  },
  {
   "cell_type": "code",
   "execution_count": null,
   "metadata": {},
   "outputs": [],
   "source": [
    "import scipy.optimize as so\n",
    "\n",
    "popt, pcov = so.curve_fit(line, x_data, y_data)\n",
    "perr = np.sqrt(np.diag(pcov))\n",
    "\n",
    "plt.ylim(0, 50)\n",
    "plt.errorbar(x_data, y_data, yerr=err_data, capsize=2, fmt='.');\n",
    "plt.plot(x_data, line(x_data, *popt))\n",
    "\n",
    "print('Die Geradenparameter sind:')\n",
    "print(' a = {} +/- {}'.format(popt[0], perr[0]))\n",
    "print(' b = {} +/- {}'.format(popt[1], perr[1]))"
   ]
  },
  {
   "cell_type": "markdown",
   "metadata": {},
   "source": [
    "## Aufbau von `curve_fit`"
   ]
  },
  {
   "cell_type": "markdown",
   "metadata": {},
   "source": [
    "Als allererstes müssen wir nochmal auf die Funktion eingehen, die bei dem Fitten benutzt wird (im obigen Beispiel `line`). \n",
    "\n",
    "Der generelle Aufbau ist:\n",
    "\n",
    "```Python\n",
    "\n",
    "def fit_func(x, a, b, c, ...): \n",
    "    # do something\n",
    "    return  results      \n",
    "```\n",
    "\n",
    "Wichtig ist `x` ist ein `numpy`-Array, während die Parameter (mind. einer) `a`, `b`, ... vom Typ Fliesskommazahlen sind. Der zurückzugebenene Wert sollen dann die Datenwerte jeweils zu einem `x`-Wert sein, ist also auch ein `numpy`-Array! Man soll die Funktion vielleicht auch so definieren, dass `x` auch eine Fliesskommazahl sein kann, aber wichtig ist die Verarbeitung von Arrays. Die Anzahl der Parameter ist beliebig, es muss nur mind. einer vorhanden sein; `curve_fit` nutzt automatisch die vorgegebenen Parameter!"
   ]
  },
  {
   "cell_type": "markdown",
   "metadata": {},
   "source": [
    "Aufgerufen wird `curve_fit` immer nach dem gleichen Schema:\n",
    "\n",
    "```Python\n",
    "popt, pcov = curve_fit(fit_func, x_data, y_data, parameters)   # parameters are optional\n",
    "```\n",
    "\n",
    "Die einzelnen Parameter werden wir anhand der folgenden Beispiele sehen.\n",
    "\n",
    "Als Rückgabewerte gibt `curve_fit` immer Werte zurück. `popt` enthält in einem Array die Werte der Parameter, die für den besten Fit berechnet wurden. `pcov` liefert ein 2d-Array zurück, welches die Kovarianzmatrix zu den Parametern enthält. Aus dieser Kovarianzmatrix lassen sich die Fehler der Parameter berechnen, die als Varianzen in der Diagonale stehen. Wenn Sie den folgende Anweisung nutzen:\n",
    "```Python\n",
    "perr = np.sqrt(np.diag(pcov))\n",
    "```\n",
    "haben Sie die Fehler in einem Array `perr` parallel zu dem Parameter-Array `popt`."
   ]
  },
  {
   "cell_type": "markdown",
   "metadata": {},
   "source": [
    "## Weitere Beispiele"
   ]
  },
  {
   "cell_type": "markdown",
   "metadata": {},
   "source": [
    "### Fitten mit Fehlern"
   ]
  },
  {
   "cell_type": "markdown",
   "metadata": {},
   "source": [
    "In vielen Fällen gibt es zu den Datenwerten Fehler (y-Fehler), die beim Fit berücksichtigt werden sollen. Dafür kennt `curve_fit` den optionalen Parameter `sigma`. Man kann einen allg. Fehler für alle Datenwerte gleichzeitig als Fliesskommazahl oder als `numpy`-Array individuell zu jedem Wert angeben:"
   ]
  },
  {
   "cell_type": "code",
   "execution_count": null,
   "metadata": {},
   "outputs": [],
   "source": [
    "import scipy.optimize as so\n",
    "\n",
    "popt, pcov = so.curve_fit(line, x_data, y_data, sigma=err_data, absolute_sigma=True)\n",
    "perr = np.sqrt(np.diag(pcov))\n",
    "\n",
    "plt.ylim(0, 50)\n",
    "plt.errorbar(x_data, y_data, yerr=err_data, capsize=2, fmt='.');\n",
    "plt.plot(x_data, line(x_data, *popt))\n",
    "\n",
    "print('Die Geradenparameter sind:')\n",
    "print(' a = {} +/- {}'.format(popt[0], perr[0]))\n",
    "print(' b = {} +/- {}'.format(popt[1], perr[1]))"
   ]
  },
  {
   "cell_type": "markdown",
   "metadata": {},
   "source": [
    "### Komplexe Fit-Funktionen"
   ]
  },
  {
   "cell_type": "code",
   "execution_count": null,
   "metadata": {},
   "outputs": [],
   "source": [
    "x_data2 = np.linspace(0,10,100)\n",
    "y_data2 = np.array([56.57842148, 46.69628716, 64.36335875, 66.05682437, 50.67604033,\n",
    "       59.59393665, 79.96709194, 51.74475279, 58.49899846, 78.37223385,\n",
    "       60.93049697, 68.76067376, 72.48051415, 67.76931413, 66.32046448,\n",
    "       63.65415124, 60.82917205, 69.60869046, 67.0324375 , 67.08117535,\n",
    "       70.0221583 , 73.5156974 , 59.91138655, 60.59673441, 62.73070407,\n",
    "       35.22291736, 64.96477555, 60.27995319, 59.16792984, 61.87355199,\n",
    "       59.20076342, 48.57517903, 58.52150211, 61.53236997, 49.34540836,\n",
    "       58.09374024, 65.63202058, 65.18363671, 45.97147553, 47.82920638,\n",
    "       51.92618175, 64.14402461, 50.31612441, 43.42655594, 46.426103  ,\n",
    "       47.97867832, 51.91997291, 45.04933792, 56.42894693, 56.97875048,\n",
    "       43.38390498, 51.32937679, 53.1078288 , 65.65662128, 69.09044387,\n",
    "       60.96781083, 56.27089128, 59.7227989 , 71.33123016, 79.15540502,\n",
    "       80.28638701, 77.37616305, 62.51479324, 52.54305533, 69.13030091,\n",
    "       65.20653505, 61.57974367, 68.02728146, 53.44865366, 64.91534085,\n",
    "       56.78049545, 51.0632137 , 43.17020558, 44.60063765, 44.31069151,\n",
    "       36.56393426, 34.79336679, 34.2208498 , 34.69099359, 39.78566679,\n",
    "       43.00383249, 25.6806266 , 29.38471853, 14.85559358, 21.03337288,\n",
    "       21.89617948, 26.49661895, 20.96088414, 21.47109652, 23.72291423,\n",
    "       23.03678842, 24.2520224 , 31.6661944 , 21.29656681, 22.20600606,\n",
    "       19.32856879, 19.31803664, 16.74451803, 27.93432488, 30.46846739])\n",
    "err_data2 = np.sqrt(np.abs(y_data2))\n",
    "\n",
    "plt.errorbar(x_data2, y_data2, yerr=err_data2, capsize=2);"
   ]
  },
  {
   "cell_type": "markdown",
   "metadata": {},
   "source": [
    "Eine Funktion an diese Daten anzufitten ist ohne Vorwissen etwas schwierig. Aus der Herkunft der Daten wissen wir, dass wir ungefähr bei `x` = 6 einen Gausspeak haben und dass dieser auf einem Untergrund liegt, welcher durch eine Gerade definiert werden kann.\n",
    "\n",
    "Es ergibt sich dadurch eine komplexe Fit-Funktion:"
   ]
  },
  {
   "cell_type": "code",
   "execution_count": null,
   "metadata": {},
   "outputs": [],
   "source": [
    "def fit_func2(x, a, x0, sigma, c, d):\n",
    "    gaussfkt = a*np.exp(-(x-x0)**2/(2*sigma**2))\n",
    "    geradefkt = c * x + d\n",
    "    return gaussfkt + geradefkt"
   ]
  },
  {
   "cell_type": "markdown",
   "metadata": {},
   "source": [
    "Es wird eeine Gaussfunktion um den Mittelpunkt `x0` mit einer Breite `sigma` und einer Höhe `a` definiert. Dazu wird eine Gerade addiert, die eine Steigung `c` und einen Offset `d` hat."
   ]
  },
  {
   "cell_type": "code",
   "execution_count": null,
   "metadata": {},
   "outputs": [],
   "source": [
    "popt, pcov = so.curve_fit(fit_func2, x_data2, y_data2, sigma=err_data2, absolute_sigma=True)\n",
    "perr = np.sqrt(np.diag(pcov))\n",
    "print(popt)\n",
    "print(perr)\n",
    "\n",
    "plt.errorbar(x_data2, y_data2, yerr=err_data2, capsize=2);\n",
    "plt.plot(x_data2, fit_func2(x_data2, *popt));"
   ]
  },
  {
   "cell_type": "markdown",
   "metadata": {},
   "source": [
    "Der Fit sieht schon ganz gut aus, allerdings sieht man, dass der Untergrund durch die Werte an der linken und rechten Seite flacher wird, als es eigentlich sein sollte. Man kann beim Fitten natürlich auch die Daten-Arrays einschränken. z.B. sollen beim Fit nur die Werte `x > 1` und `x < 10` verwendet werden:"
   ]
  },
  {
   "cell_type": "code",
   "execution_count": null,
   "metadata": {},
   "outputs": [],
   "source": [
    "arg = (x_data2 > 1) & (x_data2 < 9.5)    # select only the inner part\n",
    "\n",
    "popt1, pcov1 = so.curve_fit(fit_func2, x_data2[arg], y_data2[arg], \n",
    "                        sigma=err_data2[arg], absolute_sigma=True)\n",
    "perr1 = np.sqrt(np.diag(pcov))\n",
    "print(popt1)\n",
    "print(perr1)\n",
    "\n",
    "plt.errorbar(x_data2, y_data2, yerr=err_data2, capsize=2);\n",
    "plt.plot(x_data2, fit_func2(x_data2, *popt));"
   ]
  },
  {
   "cell_type": "markdown",
   "metadata": {},
   "source": [
    "An dieser Stelle sieht man, dass Fitten nicht leicht ist. Der Gauss-Peak, der vorher noch richtig gefittet wurde, ist nun an die rechte Seite gerutscht. An diesem Punkt kann man die Vorgaben an den Fit durch Setzen von Anfangswerten in die richtige Richtung bewegen. `curve_fit` hat dazu den Parameter `p0`! \n",
    "\n",
    "**Aber Vorsicht, diese Methode funktioniert leider nicht immer! (und nicht automatisch!)**"
   ]
  },
  {
   "cell_type": "code",
   "execution_count": null,
   "metadata": {},
   "outputs": [],
   "source": [
    "arg = (x_data2 > 1) & (x_data2 < 9.5)   # select only the inner part\n",
    "\n",
    "initvals = [40,6,0.1,0,0]  # give some initial values for the parameters\n",
    "\n",
    "\n",
    "popt2, pcov2 = so.curve_fit(fit_func2, x_data2[arg], y_data2[arg], \n",
    "                          p0=initvals, sigma=err_data2[arg], absolute_sigma=True)\n",
    "perr2 = np.sqrt(np.diag(pcov2))\n",
    "print(popt2)\n",
    "print(perr2)\n",
    "\n",
    "plt.errorbar(x_data2, y_data2, yerr=err_data2, capsize=2);\n",
    "plt.plot(x_data2, fit_func2(x_data2, *popt))"
   ]
  },
  {
   "cell_type": "markdown",
   "metadata": {},
   "source": [
    "So sieht der Fit ganz OK aus!"
   ]
  },
  {
   "cell_type": "markdown",
   "metadata": {},
   "source": [
    "Es gibt noch eine weitere Möglichkeit, die Suche nach den optimalen Parametern einzugrenzen. `curve_fit` benutzt dafür den Parameter `bounds`, der für alle Parameter ein Array mit den Minimalwerten und ein Array mit den Maximalwerten als Liste mit 2 Elementen erwartet. Das Online-Tutorial hat dazu eine schönes Besipiel!"
   ]
  },
  {
   "cell_type": "markdown",
   "metadata": {},
   "source": [
    "## Probleme mit dem Fitten"
   ]
  },
  {
   "cell_type": "markdown",
   "metadata": {},
   "source": [
    "Schauen wir uns folgenden Plot und den Fit an:"
   ]
  },
  {
   "cell_type": "code",
   "execution_count": null,
   "metadata": {},
   "outputs": [],
   "source": [
    "%matplotlib inline\n",
    "import matplotlib.pyplot as plt\n",
    "import numpy as np\n",
    "import numpy.random as nr\n",
    "import scipy.optimize as so\n",
    "\n",
    "def fit_func3(x, a, b):\n",
    "    return a * np.exp(x + b)\n",
    "\n",
    "numpoints = 10 # the number of points we want to simulate\n",
    "x = np.random.uniform(-2., 2., numpoints)\n",
    "y = 0.2 * np.exp(x + 5) + np.random.normal(0., 10., numpoints)\n",
    "plt.errorbar(x, y, yerr=10, fmt=\".\", capsize=2)\n",
    "\n",
    "popt3, pcov3 = so.curve_fit(fit_func3, x, y,\n",
    "                          sigma = np.ones(y.shape) * 10, absolute_sigma=True)\n",
    "perr3 = np.sqrt(np.diag(pcov3))\n",
    "x_fit = np.linspace(-2.0, 2.0, 20)\n",
    "plt.plot(x_fit, fit_func3(x_fit, *(popt3)), 'r-');"
   ]
  },
  {
   "cell_type": "markdown",
   "metadata": {},
   "source": [
    "Der Fit sieht OK aus, aber:"
   ]
  },
  {
   "cell_type": "code",
   "execution_count": null,
   "metadata": {},
   "outputs": [],
   "source": [
    "print('a = {} +/- {}'.format(popt3[0], perr3[0]))\n",
    "print('b = {} +/- {}'.format(popt3[1], perr3[1]))"
   ]
  },
  {
   "cell_type": "markdown",
   "metadata": {},
   "source": [
    "Die Fehler zu den Parametern sind exorbitant hoch! In diesem Fall sollte man dem Fit nicht trauen! \n",
    "\n",
    "Grund für diesen fehlerhaften Fit ist, dass beide Parameter `a` und `b` voneinander abhängig sind. In so einem Fall kann es passieren, dass beide Werte sich gegenseitig `kompensieren`, was sich in dem Fehler manifestiert:\n",
    "$$ f(x) = a \\textrm{e}^{x + b} $$\n",
    "lässt sich umschreiben in:\n",
    "$$ f(x) = a \\textrm{e}^b  \\textrm{e}^x $$\n",
    "\n",
    "Im Prinzip gibt es also nur einen Fit-Parameter! \n",
    "\n",
    "**Achten Sie immer darauf eine Fit-Funktion zu definieren, in denen die Parameter unabhängig voneinander sind!**"
   ]
  },
  {
   "cell_type": "markdown",
   "metadata": {},
   "source": [
    "## Güte eines Fits durch $\\chi^2$-Test"
   ]
  },
  {
   "cell_type": "markdown",
   "metadata": {},
   "source": [
    "Wie wir oben in dem Beispiel des komplexen Fits gesehen haben, kann man den Fit durch Anpassen der Daten vorher oder durch Verändern des Fit-Parameters beeinflussen. Da die Fit-Methode bei `curve_fit` auf das Minimieren der $\\chi^2$-Funktion basiert, ist diese Funktion ein optimaler Test, wie gut die Anpassung der gefitteten Funktion wirklich ist. Leider wird der Wert der $\\chi^2$-Funktion leider nicht von `curve_fit` mitgeliefert, sondern muss separat berechnet werden. Zur Erinnerung:\n",
    "\n",
    "$$ \\chi^2 = \\sum_{i=1}^n (\\frac{y_i-\\textrm{m}(x_i,a,b,...)}{\\Delta y_i})^2 $$ "
   ]
  },
  {
   "cell_type": "code",
   "execution_count": null,
   "metadata": {},
   "outputs": [],
   "source": [
    "# for the first fit \n",
    "chisq = np.sum((y_data2 - fit_func2(x_data2, *popt) / err_data2)**2)\n",
    "print(chisq)\n",
    "\n",
    "\n",
    "# for the second fit\n",
    "chisq = np.sum((y_data2 - fit_func2(x_data2, *popt2) / err_data2)**2)\n",
    "print(chisq)"
   ]
  },
  {
   "cell_type": "markdown",
   "metadata": {},
   "source": [
    "Wie man sieht, ist der zweite Fit-Ansatz, in dem der Werte-Bereich für den Untergrund eingeschränkt wurde, nach dem $\\chi^2$-Test besser, was man auch anhand der optischen Betrachtung gesehen hat!"
   ]
  },
  {
   "cell_type": "markdown",
   "metadata": {},
   "source": [
    "## Fitten mit Fehlern in  `x` und `y`-Richtung"
   ]
  },
  {
   "cell_type": "markdown",
   "metadata": {},
   "source": [
    "Probleme tauchen auch auf, wenn man Fehler in $x$- und $y$-Richtung hat, wie folgendes Beispiel zeigt:"
   ]
  },
  {
   "cell_type": "code",
   "execution_count": null,
   "metadata": {},
   "outputs": [],
   "source": [
    "%matplotlib inline\n",
    "import matplotlib.pyplot as plt\n",
    "import numpy as np\n",
    "import numpy.random as nr\n",
    "import scipy.optimize as so\n",
    "\n",
    "def fit_line(x, a, b):\n",
    "    return a * x + b\n",
    "\n",
    "# create some fake data with errors in 'both' coordinates and plot them:\n",
    "numpoints = 50 # the number of points we want to simulate\n",
    "x = np.random.uniform(0., 100., numpoints)\n",
    "y = x\n",
    "\n",
    "# add errors in x and y\n",
    "x = x + np.random.normal(0., 10., numpoints)\n",
    "y = y + np.random.normal(0., 10., numpoints)\n",
    "\n",
    "plt.errorbar(x, y, xerr=10, yerr=10, fmt=\".\")\n",
    "\n",
    "# perform a fit as we did before (neglecting errors in x!):\n",
    "popt, pcov = so.curve_fit(fit_line, x, y,\n",
    "                          sigma = np.ones(y.shape) * 10, absolute_sigma=True)\n",
    "plt.plot(x, fit_line(x, *(popt)), 'r-')\n",
    "print(popt, np.sqrt(pcov[0,0]))\n",
    "\n",
    "# now change the roles of x and y and fit again:\n",
    "x1, y1 = y, x\n",
    "popt, pcov = so.curve_fit(fit_line, x1, y1,\n",
    "                          sigma = np.ones(y.shape) * 10, absolute_sigma=True)\n",
    "plt.plot(x1, fit_line(x1, *(popt)), 'g-')\n",
    "print(popt)\n",
    "# Note that you do not get the 'inverse' of the first fit as you might expect!"
   ]
  },
  {
   "cell_type": "markdown",
   "metadata": {},
   "source": [
    "Eine Möglichkeit ist eine *Orthogonal distance regression*, welches in dem folgenden [Skript](code/chi2FitXYErr.py) umgesetzt wird (Autor: Thomas Erben)"
   ]
  },
  {
   "cell_type": "code",
   "execution_count": null,
   "metadata": {},
   "outputs": [],
   "source": [
    "!cat ./data/dataxy.txt\n",
    "!cat ./data/dataxy_reversed.txt"
   ]
  },
  {
   "cell_type": "code",
   "execution_count": null,
   "metadata": {},
   "outputs": [],
   "source": [
    "%run ./code/chi2FitXYErr.py -i ./data/dataxy.txt"
   ]
  },
  {
   "cell_type": "code",
   "execution_count": null,
   "metadata": {},
   "outputs": [],
   "source": [
    "# The fit-result from the reversed data set also gives a 'inverse' line!\n",
    "%run ./code/chi2FitXYErr.py -i ./data/dataxy_reversed.txt"
   ]
  },
  {
   "cell_type": "code",
   "execution_count": null,
   "metadata": {},
   "outputs": [],
   "source": []
  }
 ],
 "metadata": {
  "kernelspec": {
   "display_name": "Python 3",
   "language": "python",
   "name": "python3"
  },
  "language_info": {
   "codemirror_mode": {
    "name": "ipython",
    "version": 3
   },
   "file_extension": ".py",
   "mimetype": "text/x-python",
   "name": "python",
   "nbconvert_exporter": "python",
   "pygments_lexer": "ipython3",
   "version": "3.7.3"
  },
  "latex_envs": {
   "LaTeX_envs_menu_present": true,
   "autoclose": false,
   "autocomplete": true,
   "bibliofile": "biblio.bib",
   "cite_by": "apalike",
   "current_citInitial": 1,
   "eqLabelWithNumbers": true,
   "eqNumInitial": 1,
   "hotkeys": {
    "equation": "Ctrl-E",
    "itemize": "Ctrl-I"
   },
   "labels_anchors": false,
   "latex_user_defs": false,
   "report_style_numbering": false,
   "user_envs_cfg": false
  },
  "toc": {
   "base_numbering": 1,
   "nav_menu": {},
   "number_sections": true,
   "sideBar": true,
   "skip_h1_title": false,
   "title_cell": "Table of Contents",
   "title_sidebar": "Contents",
   "toc_cell": false,
   "toc_position": {},
   "toc_section_display": true,
   "toc_window_display": false
  }
 },
 "nbformat": 4,
 "nbformat_minor": 4
}
